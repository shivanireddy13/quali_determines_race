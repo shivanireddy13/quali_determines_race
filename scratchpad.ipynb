{
 "cells": [
  {
   "cell_type": "code",
   "execution_count": 2,
   "metadata": {},
   "outputs": [],
   "source": [
    "%load_ext rpy2.ipython\n",
    "%load_ext autoreload\n",
    "%autoreload 2\n",
    "\n",
    "%matplotlib inline  \n",
    "from matplotlib import rcParams\n",
    "rcParams['figure.figsize'] = (16, 100)\n",
    "\n",
    "import warnings\n",
    "from rpy2.rinterface import RRuntimeWarning\n",
    "warnings.filterwarnings(\"ignore\") # Ignore all warnings\n",
    "# warnings.filterwarnings(\"ignore\", category=RRuntimeWarning) # Show some warnings\n",
    "\n",
    "import pandas as pd\n",
    "import numpy as np\n",
    "import matplotlib.pyplot as plt\n",
    "from IPython.display import display, HTML\n",
    "\n",
    "# show all columns on pandas dataframes\n",
    "pd.set_option('display.max_columns', None)\n",
    "\n"
   ]
  },
  {
   "cell_type": "code",
   "execution_count": 4,
   "metadata": {},
   "outputs": [
    {
     "data": {
      "application/javascript": "// Disable auto-scrolling\nIPython.OutputArea.prototype._should_scroll = function(lines) {\n    return false;\n}\n",
      "text/plain": [
       "<IPython.core.display.Javascript object>"
      ]
     },
     "metadata": {},
     "output_type": "display_data"
    }
   ],
   "source": [
    "%%javascript\n",
    "// Disable auto-scrolling\n",
    "IPython.OutputArea.prototype._should_scroll = function(lines) {\n",
    "    return false;\n",
    "}"
   ]
  },
  {
   "cell_type": "code",
   "execution_count": 5,
   "metadata": {},
   "outputs": [
    {
     "name": "stderr",
     "output_type": "stream",
     "text": [
      "R[write to console]: Loading required package: tidyverse\n",
      "\n"
     ]
    },
    {
     "name": "stdout",
     "output_type": "stream",
     "text": [
      "── Attaching packages ─────────────────────────────────────── tidyverse 1.3.2 ──\n",
      "✔ ggplot2 3.4.1      ✔ purrr   0.3.5 \n",
      "✔ tibble  3.1.8      ✔ dplyr   1.0.10\n",
      "✔ tidyr   1.2.1      ✔ stringr 1.4.1 \n",
      "✔ readr   2.1.3      ✔ forcats 0.5.2 \n",
      "── Conflicts ────────────────────────────────────────── tidyverse_conflicts() ──\n",
      "✖ dplyr::filter() masks stats::filter()\n",
      "✖ dplyr::lag()    masks stats::lag()\n"
     ]
    }
   ],
   "source": [
    "%%R\n",
    "\n",
    "# My commonly used R imports\n",
    "\n",
    "require('tidyverse')\n"
   ]
  },
  {
   "cell_type": "code",
   "execution_count": 7,
   "metadata": {},
   "outputs": [
    {
     "name": "stdout",
     "output_type": "stream",
     "text": [
      "Rows: 440 Columns: 11\n",
      "── Column specification ────────────────────────────────────────────────────────\n",
      "Delimiter: \",\"\n",
      "chr  (6): Track, Position, Driver, Team, Time/Retired, +1 Pt\n",
      "dbl  (4): No, Starting Grid, Laps, Points\n",
      "time (1): Fastest Lap\n",
      "\n",
      "ℹ Use `spec()` to retrieve the full column specification for this data.\n",
      "ℹ Specify the column types or set `show_col_types = FALSE` to quiet this message.\n",
      "Rows: 440 Columns: 9\n",
      "── Column specification ────────────────────────────────────────────────────────\n",
      "Delimiter: \",\"\n",
      "chr (7): Track, Position, Driver, Team, Q1, Q2, Q3\n",
      "dbl (2): No, Laps\n",
      "\n",
      "ℹ Use `spec()` to retrieve the full column specification for this data.\n",
      "ℹ Specify the column types or set `show_col_types = FALSE` to quiet this message.\n"
     ]
    }
   ],
   "source": [
    "%%R\n",
    "\n",
    "#import csvs\n",
    "\n",
    "# import the data\n",
    "race <- read_csv('/Users/shivanireddy/Desktop/dataclasses/datastudio/project2/project2/formula1-datasets/Formula1_2022season_raceResults.csv')\n",
    "quali <- read_csv('/Users/shivanireddy/Desktop/dataclasses/datastudio/project2/project2/formula1-datasets/Formula1_2022season_qualifyingResults.csv')"
   ]
  },
  {
   "cell_type": "code",
   "execution_count": 24,
   "metadata": {},
   "outputs": [
    {
     "name": "stdout",
     "output_type": "stream",
     "text": [
      "spc_tbl_ [440 × 9] (S3: spec_tbl_df/tbl_df/tbl/data.frame)\n",
      " $ Track   : chr [1:440] \"Bahrain\" \"Bahrain\" \"Bahrain\" \"Bahrain\" ...\n",
      " $ Position: num [1:440] 1 2 3 4 5 6 7 8 9 10 ...\n",
      " $ No      : num [1:440] 16 1 55 11 44 77 20 14 63 10 ...\n",
      " $ Driver  : chr [1:440] \"Charles Leclerc\" \"Max Verstappen\" \"Carlos Sainz\" \"Sergio Perez\" ...\n",
      " $ Team    : chr [1:440] \"Ferrari\" \"Red Bull Racing RBPT\" \"Ferrari\" \"Red Bull Racing RBPT\" ...\n",
      " $ Q1      : chr [1:440] \"1:31.471\" \"1:31.785\" \"1:31.567\" \"1:32.311\" ...\n",
      " $ Q2      : chr [1:440] \"1:30.932\" \"1:30.757\" \"1:30.787\" \"1:31.008\" ...\n",
      " $ Q3      : chr [1:440] \"1:30.558\" \"1:30.681\" \"1:30.687\" \"1:30.921\" ...\n",
      " $ Laps    : num [1:440] 15 14 15 18 17 15 12 14 17 21 ...\n",
      " - attr(*, \"spec\")=\n",
      "  .. cols(\n",
      "  ..   Track = col_character(),\n",
      "  ..   Position = col_character(),\n",
      "  ..   No = col_double(),\n",
      "  ..   Driver = col_character(),\n",
      "  ..   Team = col_character(),\n",
      "  ..   Q1 = col_character(),\n",
      "  ..   Q2 = col_character(),\n",
      "  ..   Q3 = col_character(),\n",
      "  ..   Laps = col_double()\n",
      "  .. )\n",
      " - attr(*, \"problems\")=<externalptr> \n"
     ]
    }
   ],
   "source": [
    "%%R\n",
    "\n",
    "#str(quali)\n",
    " race$Position <- as.numeric(race$Position)\n",
    " quali$Position <- as.numeric(quali$Position)\n",
    "str(quali)"
   ]
  },
  {
   "cell_type": "code",
   "execution_count": 25,
   "metadata": {},
   "outputs": [],
   "source": [
    "%%R\n",
    "group_race <- race %>% group_by(No)\n",
    "group_quali <- quali %>% group_by(No)\n",
    "\n",
    "# write.csv(group_race, \"/Users/shivanireddy/Desktop/dataclasses/algorithms/group_race.csv\")\n",
    "# write.csv(group_quali, \"/Users/shivanireddy/Desktop/dataclasses/algorithms/group_quali.csv\")"
   ]
  },
  {
   "cell_type": "code",
   "execution_count": 26,
   "metadata": {},
   "outputs": [],
   "source": [
    "%%R\n",
    "summary_race <- group_race %>% summarize(avg_pos = mean(Position))\n",
    "summary_quali <- group_quali %>% summarize(avg_pos = mean(Position))"
   ]
  },
  {
   "cell_type": "code",
   "execution_count": 34,
   "metadata": {},
   "outputs": [
    {
     "name": "stdout",
     "output_type": "stream",
     "text": [
      "# A tibble: 22 × 2\n",
      "      No avg_pos\n",
      "   <dbl>   <dbl>\n",
      " 1     1    2.59\n",
      " 2     3   12.1 \n",
      " 3     4    8.05\n",
      " 4     5   14.3 \n",
      " 5     6   18.5 \n",
      " 6    10   12.5 \n",
      " 7    11    5   \n",
      " 8    14    8.27\n",
      " 9    16    3   \n",
      "10    18   NA   \n",
      "# … with 12 more rows\n",
      "# ℹ Use `print(n = ...)` to see more rows\n"
     ]
    }
   ],
   "source": [
    "%%R\n",
    "\n",
    "# summary_quali\n",
    "#Show all rows using options - not working?\n",
    "options(repr.matrix.max.rows=1000)\n",
    "options(max.print = 300)\n",
    "\n",
    "# summary_quali %>% head(n = 100)\n",
    "summary_quali %>% head(n = 100)"
   ]
  },
  {
   "cell_type": "code",
   "execution_count": 20,
   "metadata": {},
   "outputs": [
    {
     "name": "stdout",
     "output_type": "stream",
     "text": [
      "NULL\n"
     ]
    }
   ],
   "source": [
    "%%R\n",
    "\n",
    "#qualipositions <- "
   ]
  },
  {
   "cell_type": "code",
   "execution_count": null,
   "metadata": {},
   "outputs": [],
   "source": []
  }
 ],
 "metadata": {
  "kernelspec": {
   "display_name": "Python 3.11.0rc2 64-bit ('3.11.0rc2')",
   "language": "python",
   "name": "python3"
  },
  "language_info": {
   "codemirror_mode": {
    "name": "ipython",
    "version": 3
   },
   "file_extension": ".py",
   "mimetype": "text/x-python",
   "name": "python",
   "nbconvert_exporter": "python",
   "pygments_lexer": "ipython3",
   "version": "3.11.0rc2"
  },
  "orig_nbformat": 4,
  "vscode": {
   "interpreter": {
    "hash": "fa7dd49bd06a4b0b734d7073ce817c8199e9056c91ac3585cf20f0427123aa55"
   }
  }
 },
 "nbformat": 4,
 "nbformat_minor": 2
}
